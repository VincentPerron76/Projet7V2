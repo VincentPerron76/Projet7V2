{
 "cells": [
  {
   "cell_type": "code",
   "execution_count": 1,
   "metadata": {},
   "outputs": [],
   "source": [
    "import numpy as np\n",
    "import pandas as pd\n",
    "\n",
    "from sklearn.pipeline import Pipeline\n",
    "\n",
    "from sklearn.impute import SimpleImputer\n",
    "from sklearn.preprocessing import StandardScaler, OneHotEncoder\n",
    "\n",
    "from sklearn.model_selection import train_test_split\n",
    "from sklearn.metrics import accuracy_score\n",
    "from imblearn.over_sampling import SMOTE\n",
    "from imblearn.pipeline import Pipeline as ImbPipeline\n",
    "from imblearn.pipeline import make_pipeline \n",
    "from lightgbm import LGBMClassifier\n",
    "\n",
    "import joblib\n",
    "import os"
   ]
  },
  {
   "cell_type": "code",
   "execution_count": 2,
   "metadata": {},
   "outputs": [],
   "source": [
    "# Changer le répertoire courant\n",
    "os.chdir(r\"C:\\Users\\Vincent\\Open Classroom\\Projet7_GIT\\artifacts\")\n",
    "\n",
    "# Charger les transformateurs et le modèle\n",
    "imputer = joblib.load(\"imputer.joblib\")\n",
    "scaler = joblib.load(\"scaler.joblib\")\n",
    "model = joblib.load(\"lgmb_model.joblib\")\n"
   ]
  },
  {
   "cell_type": "code",
   "execution_count": 3,
   "metadata": {},
   "outputs": [],
   "source": [
    "# Créer un pipeline de production\n",
    "production_pipeline = Pipeline(steps=[\n",
    "    ('imputer', imputer),   # Appliquer le même imputeur que pendant l'entraînement\n",
    "    ('scaler', scaler),     # Appliquer le même scaler que pendant l'entraînement\n",
    "    ('classifier', model)   # Utiliser le modèle entraîné\n",
    "])"
   ]
  },
  {
   "cell_type": "code",
   "execution_count": 4,
   "metadata": {},
   "outputs": [
    {
     "data": {
      "text/plain": [
       "['production_pipeline.joblib']"
      ]
     },
     "execution_count": 4,
     "metadata": {},
     "output_type": "execute_result"
    }
   ],
   "source": [
    "# Sauvegarder le pipeline de production\n",
    "joblib.dump(production_pipeline,\"production_pipeline.joblib\")"
   ]
  }
 ],
 "metadata": {
  "kernelspec": {
   "display_name": "Poetry Environment Kernel",
   "language": "python",
   "name": "poetry_kernel"
  },
  "language_info": {
   "codemirror_mode": {
    "name": "ipython",
    "version": 3
   },
   "file_extension": ".py",
   "mimetype": "text/x-python",
   "name": "python",
   "nbconvert_exporter": "python",
   "pygments_lexer": "ipython3",
   "version": "3.11.0"
  }
 },
 "nbformat": 4,
 "nbformat_minor": 2
}
