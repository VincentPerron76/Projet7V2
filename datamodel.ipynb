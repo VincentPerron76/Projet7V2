{
 "cells": [
  {
   "cell_type": "code",
   "execution_count": 1,
   "metadata": {},
   "outputs": [],
   "source": [
    "import pandas as pd\n",
    "\n",
    "import numpy as np\n",
    "from sklearn.pipeline import Pipeline\n",
    "from sklearn.compose import ColumnTransformer\n",
    "from sklearn.impute import SimpleImputer\n",
    "from sklearn.preprocessing import StandardScaler, OneHotEncoder\n",
    "from sklearn.model_selection import train_test_split\n",
    "from sklearn.metrics import accuracy_score\n",
    "from imblearn.over_sampling import SMOTE\n",
    "from imblearn.pipeline import Pipeline as ImbPipeline\n",
    "from lightgbm import LGBMClassifier\n",
    "\n",
    "\n"
   ]
  },
  {
   "cell_type": "code",
   "execution_count": 6,
   "metadata": {},
   "outputs": [
    {
     "name": "stdout",
     "output_type": "stream",
     "text": [
      "   CNT_CHILDREN  DAYS_BIRTH  DAYS_ID_PUBLISH  FLAG_WORK_PHONE  \\\n",
      "0      4.961729    0.649414        -0.282088        -0.498997   \n",
      "1     -0.577534    0.205324        -0.713370        -0.498997   \n",
      "2     -0.577534    1.584342         0.815661        -0.498997   \n",
      "3      0.807282   -0.140920         1.853124        -0.498997   \n",
      "4     -0.577534   -0.178959         1.738513         2.004021   \n",
      "\n",
      "   CNT_FAM_MEMBERS  REGION_RATING_CLIENT_W_CITY  EXT_SOURCE_1  EXT_SOURCE_2  \\\n",
      "0         4.224699                    -0.062693      0.016460     -2.510307   \n",
      "1        -0.167631                    -0.062693      0.016460     -1.297352   \n",
      "2        -1.265713                    -0.062693      0.016460     -1.495712   \n",
      "3        -0.167631                    -0.062693      0.710804      0.526104   \n",
      "4        -0.167631                    -0.062693      0.789756      0.608720   \n",
      "\n",
      "   EXT_SOURCE_3  YEARS_BEGINEXPLUATATION_MEDI  ...  PREV_APP_CREDIT_PERC_VAR  \\\n",
      "0     -1.447181                      0.014154  ...             -2.082433e-02   \n",
      "1      0.627045                      0.064240  ...             -1.435343e-01   \n",
      "2      0.033054                     -0.109390  ...             -9.131233e-17   \n",
      "3     -0.399782                      0.064240  ...             -2.307055e-01   \n",
      "4     -1.648821                      0.064240  ...              1.468653e-01   \n",
      "\n",
      "   PREV_RATE_DOWN_PAYMENT_MIN  PREV_NAME_YIELD_GROUP_high_MEAN  \\\n",
      "0               -5.668721e-01                         1.090778   \n",
      "1               -5.668721e-01                         1.262924   \n",
      "2               -3.796959e-01                        -0.802819   \n",
      "3               -5.668721e-01                        -0.458528   \n",
      "4               -8.427040e-17                        -0.802819   \n",
      "\n",
      "   APPROVED_HOUR_APPR_PROCESS_START_MAX  POS_MONTHS_BALANCE_MAX  \\\n",
      "0                                  17.0                0.621581   \n",
      "1                                  15.0                0.621581   \n",
      "2                                  15.0                0.031724   \n",
      "3                                  15.0                0.621581   \n",
      "4                                  14.0                0.299841   \n",
      "\n",
      "   POS_MONTHS_BALANCE_SIZE  INSTAL_NUM_INSTALMENT_VERSION_NUNIQUE  \\\n",
      "0                 0.503204                              -0.162200   \n",
      "1                 1.236941                              -0.162200   \n",
      "2                -0.964271                              -0.162200   \n",
      "3                 0.380914                              -0.696787   \n",
      "4                -0.312060                               5.718254   \n",
      "\n",
      "   INSTAL_DPD_MAX  INSTAL_AMT_PAYMENT_SUM  Target  \n",
      "0        0.084567               -0.232567       1  \n",
      "1        2.153398               -0.375035       0  \n",
      "2       -0.164801               -0.357402       0  \n",
      "3       -0.164801               -0.491362       0  \n",
      "4       -0.026263               -0.091773       0  \n",
      "\n",
      "[5 rows x 26 columns]\n"
     ]
    }
   ],
   "source": [
    "# Charger le fichier CSV\n",
    "df_reduced = pd.read_csv(\"X_train_selected_with_target.csv\")\n",
    "\n",
    "# Afficher les premières lignes du DataFrame\n",
    "print(df_reduced.head())"
   ]
  },
  {
   "cell_type": "code",
   "execution_count": 8,
   "metadata": {},
   "outputs": [
    {
     "data": {
      "text/plain": [
       "(23063, 26)"
      ]
     },
     "execution_count": 8,
     "metadata": {},
     "output_type": "execute_result"
    }
   ],
   "source": [
    "df_reduced.shape"
   ]
  },
  {
   "cell_type": "code",
   "execution_count": 9,
   "metadata": {},
   "outputs": [
    {
     "name": "stdout",
     "output_type": "stream",
     "text": [
      "Index(['CNT_CHILDREN', 'DAYS_BIRTH', 'DAYS_ID_PUBLISH', 'FLAG_WORK_PHONE',\n",
      "       'CNT_FAM_MEMBERS', 'REGION_RATING_CLIENT_W_CITY', 'EXT_SOURCE_1',\n",
      "       'EXT_SOURCE_2', 'EXT_SOURCE_3', 'YEARS_BEGINEXPLUATATION_MEDI',\n",
      "       'OBS_30_CNT_SOCIAL_CIRCLE', 'DEF_30_CNT_SOCIAL_CIRCLE',\n",
      "       'FLAG_DOCUMENT_3', 'PAYMENT_RATE', 'BURO_DAYS_CREDIT_MEAN',\n",
      "       'ACTIVE_DAYS_CREDIT_MAX', 'PREV_APP_CREDIT_PERC_VAR',\n",
      "       'PREV_RATE_DOWN_PAYMENT_MIN', 'PREV_NAME_YIELD_GROUP_high_MEAN',\n",
      "       'APPROVED_HOUR_APPR_PROCESS_START_MAX', 'POS_MONTHS_BALANCE_MAX',\n",
      "       'POS_MONTHS_BALANCE_SIZE', 'INSTAL_NUM_INSTALMENT_VERSION_NUNIQUE',\n",
      "       'INSTAL_DPD_MAX', 'INSTAL_AMT_PAYMENT_SUM', 'Target'],\n",
      "      dtype='object')\n"
     ]
    }
   ],
   "source": [
    "# Afficher toutes les colonnes\n",
    "print(df_reduced.columns)\n"
   ]
  },
  {
   "cell_type": "code",
   "execution_count": 7,
   "metadata": {},
   "outputs": [
    {
     "name": "stdout",
     "output_type": "stream",
     "text": [
      "       CNT_CHILDREN    DAYS_BIRTH  DAYS_ID_PUBLISH  FLAG_WORK_PHONE  \\\n",
      "count  23063.000000  23063.000000     23063.000000     23063.000000   \n",
      "mean       0.005442     -0.004902        -0.008884         0.004906   \n",
      "std        1.013872      1.000427         1.000028         1.003695   \n",
      "min       -0.577534     -2.095102        -2.141041        -0.498997   \n",
      "25%       -0.577534     -0.840168        -0.871706        -0.498997   \n",
      "50%       -0.577534      0.064626        -0.188014        -0.498997   \n",
      "75%        0.807282      0.820817         0.831230        -0.498997   \n",
      "max        9.116177      1.915003         1.983635         2.004021   \n",
      "\n",
      "       CNT_FAM_MEMBERS  REGION_RATING_CLIENT_W_CITY  EXT_SOURCE_1  \\\n",
      "count     23063.000000                 23063.000000  23063.000000   \n",
      "mean          0.006583                     0.000871      0.006608   \n",
      "std           1.009066                     1.005361      0.660774   \n",
      "min          -1.265713                    -2.051807     -2.294931   \n",
      "25%          -0.167631                    -0.062693      0.016460   \n",
      "50%          -0.167631                    -0.062693      0.016460   \n",
      "75%           0.930452                    -0.062693      0.016460   \n",
      "max           7.518945                     1.926421      2.101804   \n",
      "\n",
      "       EXT_SOURCE_2  EXT_SOURCE_3  YEARS_BEGINEXPLUATATION_MEDI  ...  \\\n",
      "count  23063.000000  23063.000000                  23063.000000  ...   \n",
      "mean      -0.001086      0.039081                      0.036762  ...   \n",
      "std        0.998963      0.893948                      0.639196  ...   \n",
      "min       -2.692251     -2.619182                    -16.323706  ...   \n",
      "25%       -0.633449     -0.463170                      0.064240  ...   \n",
      "50%        0.265639      0.143738                      0.064240  ...   \n",
      "75%        0.776603      0.644211                      0.072587  ...   \n",
      "max        1.782727      1.907557                      0.371430  ...   \n",
      "\n",
      "       PREV_APP_CREDIT_PERC_VAR  PREV_RATE_DOWN_PAYMENT_MIN  \\\n",
      "count              2.306300e+04                23063.000000   \n",
      "mean              -8.073829e-03                   -0.022720   \n",
      "std                7.842643e-01                    0.985327   \n",
      "min               -2.359125e-01                   -0.566872   \n",
      "25%               -2.189423e-01                   -0.566872   \n",
      "50%               -1.705799e-01                   -0.566872   \n",
      "75%               -9.131233e-17                    0.628513   \n",
      "max                5.246962e+01                    8.939890   \n",
      "\n",
      "       PREV_NAME_YIELD_GROUP_high_MEAN  APPROVED_HOUR_APPR_PROCESS_START_MAX  \\\n",
      "count                     23063.000000                          23063.000000   \n",
      "mean                          0.005844                             14.431644   \n",
      "std                           0.988990                              3.145036   \n",
      "min                          -0.802819                              0.000000   \n",
      "25%                          -0.802819                             12.000000   \n",
      "50%                          -0.310975                             15.000000   \n",
      "75%                           0.344816                             17.000000   \n",
      "max                           2.640085                             23.000000   \n",
      "\n",
      "       POS_MONTHS_BALANCE_MAX  POS_MONTHS_BALANCE_SIZE  \\\n",
      "count            23063.000000             23063.000000   \n",
      "mean                 0.023705                -0.018577   \n",
      "std                  0.982255                 0.965022   \n",
      "min                 -4.472638                -1.168087   \n",
      "25%                 -0.075523                -0.678929   \n",
      "50%                  0.460711                -0.312060   \n",
      "75%                  0.567957                 0.340151   \n",
      "max                  0.621581                 7.147604   \n",
      "\n",
      "       INSTAL_NUM_INSTALMENT_VERSION_NUNIQUE  INSTAL_DPD_MAX  \\\n",
      "count                           23063.000000    23063.000000   \n",
      "mean                               -0.022730       -0.011541   \n",
      "std                                 0.956018        0.941888   \n",
      "min                                -0.696787       -0.164801   \n",
      "25%                                -0.696787       -0.164801   \n",
      "50%                                -0.162200       -0.155565   \n",
      "75%                                 0.372386       -0.090914   \n",
      "max                                23.359615       26.129675   \n",
      "\n",
      "       INSTAL_AMT_PAYMENT_SUM        Target  \n",
      "count            23063.000000  23063.000000  \n",
      "mean                -0.039761      0.080649  \n",
      "std                  0.951624      0.272301  \n",
      "min                 -0.740852      0.000000  \n",
      "25%                 -0.593464      0.000000  \n",
      "50%                 -0.399769      0.000000  \n",
      "75%                  0.096116      0.000000  \n",
      "max                 17.285246      1.000000  \n",
      "\n",
      "[8 rows x 26 columns]\n"
     ]
    }
   ],
   "source": [
    "# Obtenir les statistiques descriptives pour toutes les colonnes numériques\n",
    "stats = df_reduced.describe()\n",
    "\n",
    "# Afficher les statistiques\n",
    "print(stats)\n"
   ]
  }
 ],
 "metadata": {
  "kernelspec": {
   "display_name": "Poetry Environment Kernel",
   "language": "python",
   "name": "poetry_kernel"
  },
  "language_info": {
   "codemirror_mode": {
    "name": "ipython",
    "version": 3
   },
   "file_extension": ".py",
   "mimetype": "text/x-python",
   "name": "python",
   "nbconvert_exporter": "python",
   "pygments_lexer": "ipython3",
   "version": "3.11.0"
  }
 },
 "nbformat": 4,
 "nbformat_minor": 2
}
