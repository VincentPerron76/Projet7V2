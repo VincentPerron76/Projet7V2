{
 "cells": [
  {
   "cell_type": "code",
   "execution_count": 1,
   "metadata": {},
   "outputs": [],
   "source": [
    "import numpy as np\n",
    "import pandas as pd\n",
    "\n",
    "from sklearn.pipeline import Pipeline\n",
    "\n",
    "from sklearn.impute import SimpleImputer\n",
    "from sklearn.preprocessing import StandardScaler, OneHotEncoder\n",
    "\n",
    "from sklearn.model_selection import train_test_split\n",
    "from sklearn.metrics import accuracy_score\n",
    "from imblearn.over_sampling import SMOTE\n",
    "from imblearn.pipeline import Pipeline as ImbPipeline\n",
    "from imblearn.pipeline import make_pipeline \n",
    "from lightgbm import LGBMClassifier\n",
    "\n",
    "import joblib"
   ]
  },
  {
   "cell_type": "code",
   "execution_count": 25,
   "metadata": {},
   "outputs": [],
   "source": [
    "# Charger les transformateurs et le modèle\n",
    "imputer = joblib.load(\"artifacts/imputer.joblib\")\n",
    "scaler = joblib.load(\"artifacts/scaler.joblib\")\n",
    "model = joblib.load(\"artifacts/lgmb_model.joblib\")\n"
   ]
  },
  {
   "cell_type": "code",
   "execution_count": 26,
   "metadata": {},
   "outputs": [],
   "source": [
    "# Créer un pipeline de production\n",
    "production_pipeline = Pipeline(steps=[\n",
    "    ('imputer', imputer),   # Appliquer le même imputeur que pendant l'entraînement\n",
    "    ('scaler', scaler),     # Appliquer le même scaler que pendant l'entraînement\n",
    "    ('classifier', model)   # Utiliser le modèle entraîné\n",
    "])"
   ]
  },
  {
   "cell_type": "code",
   "execution_count": 29,
   "metadata": {},
   "outputs": [],
   "source": [
    "# Exemple de données de production à tester\n",
    "# Supposons que vous ayez un DataFrame avec des NaN (exemple ici)\n",
    "X_production = pd.DataFrame({\n",
    "    \"CNT_CHILDREN\": [4.961729233406375],\n",
    "    \"DAYS_BIRTH\": [0.6494141368593394],\n",
    "    \"DAYS_ID_PUBLISH\": [-0.28208800158267566],\n",
    "    \"FLAG_WORK_PHONE\": [-0.49899677178931173],\n",
    "    \"CNT_FAM_MEMBERS\": [4.2246985025429815],\n",
    "    \"REGION_RATING_CLIENT_W_CITY\": [-0.0626928526971028],\n",
    "    \"EXT_SOURCE_1\": [0.016460129067917988],\n",
    "    \"EXT_SOURCE_2\": [np.nan],\n",
    "    \"EXT_SOURCE_3\": [-1.4471805253488148],\n",
    "    \"YEARS_BEGINEXPLUATATION_MEDI\": [0.014154247869191033],\n",
    "    \"OBS_30_CNT_SOCIAL_CIRCLE\": [-0.17585232135929785],\n",
    "    \"DEF_30_CNT_SOCIAL_CIRCLE\": [-0.32107538979547706],\n",
    "    \"FLAG_DOCUMENT_3\": [np.nan],\n",
    "    \"PAYMENT_RATE\": [0.6042966523494969],\n",
    "    \"BURO_DAYS_CREDIT_MEAN\": [-1.746064981800085],\n",
    "    \"ACTIVE_DAYS_CREDIT_MAX\": [-698.0],\n",
    "    \"PREV_APP_CREDIT_PERC_VAR\": [-0.02082433473905336],\n",
    "    \"PREV_RATE_DOWN_PAYMENT_MIN\": [-0.5668721219826327],\n",
    "    \"PREV_NAME_YIELD_GROUP_high_MEAN\": [1.0907783598714118],\n",
    "    \"APPROVED_HOUR_APPR_PROCESS_START_MAX\": [17.0],\n",
    "    \"POS_MONTHS_BALANCE_MAX\": [0.6215807000708212],\n",
    "    \"POS_MONTHS_BALANCE_SIZE\": [0.5032035038702302],\n",
    "    \"INSTAL_NUM_INSTALMENT_VERSION_NUNIQUE\":[ -0.16220038715397642],\n",
    "    \"INSTAL_DPD_MAX\": [0.0845668354102822],\n",
    "    \"INSTAL_AMT_PAYMENT_SUM\": [-0.232566621486729]\n",
    "}, index=[0])  # Ajout d'un index"
   ]
  },
  {
   "cell_type": "code",
   "execution_count": 28,
   "metadata": {},
   "outputs": [
    {
     "name": "stdout",
     "output_type": "stream",
     "text": [
      "NaN avant imputation :\n",
      " CNT_CHILDREN                             0\n",
      "DAYS_BIRTH                               0\n",
      "DAYS_ID_PUBLISH                          0\n",
      "FLAG_WORK_PHONE                          0\n",
      "CNT_FAM_MEMBERS                          0\n",
      "REGION_RATING_CLIENT_W_CITY              0\n",
      "EXT_SOURCE_1                             0\n",
      "EXT_SOURCE_2                             1\n",
      "EXT_SOURCE_3                             0\n",
      "YEARS_BEGINEXPLUATATION_MEDI             0\n",
      "OBS_30_CNT_SOCIAL_CIRCLE                 0\n",
      "DEF_30_CNT_SOCIAL_CIRCLE                 0\n",
      "FLAG_DOCUMENT_3                          0\n",
      "PAYMENT_RATE                             0\n",
      "BURO_DAYS_CREDIT_MEAN                    0\n",
      "ACTIVE_DAYS_CREDIT_MAX                   0\n",
      "PREV_APP_CREDIT_PERC_VAR                 0\n",
      "PREV_RATE_DOWN_PAYMENT_MIN               0\n",
      "PREV_NAME_YIELD_GROUP_high_MEAN          0\n",
      "APPROVED_HOUR_APPR_PROCESS_START_MAX     0\n",
      "POS_MONTHS_BALANCE_MAX                   0\n",
      "POS_MONTHS_BALANCE_SIZE                  0\n",
      "INSTAL_NUM_INSTALMENT_VERSION_NUNIQUE    0\n",
      "INSTAL_DPD_MAX                           0\n",
      "INSTAL_AMT_PAYMENT_SUM                   0\n",
      "dtype: int64\n"
     ]
    }
   ],
   "source": [
    "# Vérifier les NaN dans les données d'entrée avant le pipeline de production\n",
    "print(\"NaN avant imputation :\\n\", X_production.isna().sum())\n"
   ]
  },
  {
   "cell_type": "code",
   "execution_count": 16,
   "metadata": {},
   "outputs": [
    {
     "data": {
      "text/plain": [
       "(1, 25)"
      ]
     },
     "execution_count": 16,
     "metadata": {},
     "output_type": "execute_result"
    }
   ],
   "source": [
    "X_production.shape"
   ]
  },
  {
   "cell_type": "code",
   "execution_count": 23,
   "metadata": {},
   "outputs": [],
   "source": [
    "# Appliquer le pipeline de production sur les données\n",
    "X_production_processed = production_pipeline.predict(X_production)  # Transformation des données"
   ]
  },
  {
   "cell_type": "code",
   "execution_count": 24,
   "metadata": {},
   "outputs": [
    {
     "data": {
      "text/plain": [
       "['artifacts/production_pipeline.joblib']"
      ]
     },
     "execution_count": 24,
     "metadata": {},
     "output_type": "execute_result"
    }
   ],
   "source": [
    "# Sauvegarder le pipeline de production\n",
    "joblib.dump(production_pipeline,\"artifacts/production_pipeline.joblib\")"
   ]
  }
 ],
 "metadata": {
  "kernelspec": {
   "display_name": "Poetry Environment Kernel",
   "language": "python",
   "name": "poetry_kernel"
  },
  "language_info": {
   "codemirror_mode": {
    "name": "ipython",
    "version": 3
   },
   "file_extension": ".py",
   "mimetype": "text/x-python",
   "name": "python",
   "nbconvert_exporter": "python",
   "pygments_lexer": "ipython3",
   "version": "3.11.0"
  }
 },
 "nbformat": 4,
 "nbformat_minor": 2
}
